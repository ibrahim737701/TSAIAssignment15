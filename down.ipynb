{
 "cells": [
  {
   "cell_type": "code",
   "execution_count": 4,
   "metadata": {},
   "outputs": [
    {
     "name": "stdout",
     "output_type": "stream",
     "text": [
      "/raid/users/mohammadibrahim-st/TSAI/Assignment15/yolov9\n"
     ]
    }
   ],
   "source": [
    "import os\n",
    "HOME = os.getcwd()\n",
    "print(HOME)"
   ]
  },
  {
   "cell_type": "code",
   "execution_count": 2,
   "metadata": {},
   "outputs": [],
   "source": [
    "import os\n",
    "os.environ[\"https_proxy\"] = \"http://185.46.212.90:80\"\n",
    "os.environ[\"http_proxy\"] = \"http://185.46.212.90:80\""
   ]
  },
  {
   "cell_type": "code",
   "execution_count": 3,
   "metadata": {},
   "outputs": [],
   "source": [
    "!wget -P {HOME}/weights -q https://github.com/WongKinYiu/yolov9/releases/download/v0.1/yolov9-c.pt\n",
    "!wget -P {HOME}/weights -q https://github.com/WongKinYiu/yolov9/releases/download/v0.1/yolov9-e.pt\n",
    "!wget -P {HOME}/weights -q https://github.com/WongKinYiu/yolov9/releases/download/v0.1/gelan-c.pt\n",
    "!wget -P {HOME}/weights -q https://github.com/WongKinYiu/yolov9/releases/download/v0.1/gelan-e.pt"
   ]
  },
  {
   "cell_type": "code",
   "execution_count": 3,
   "metadata": {},
   "outputs": [],
   "source": [
    "!cd /raid/users/mohammadibrahim-st/TSAI/Assignment15/yolov9"
   ]
  },
  {
   "cell_type": "code",
   "execution_count": 4,
   "metadata": {},
   "outputs": [
    {
     "name": "stdout",
     "output_type": "stream",
     "text": [
      "visit https://app.roboflow.com/auth-cli to get your authentication token.\n",
      "loading Roboflow workspace...\n",
      "loading Roboflow project...\n"
     ]
    },
    {
     "name": "stderr",
     "output_type": "stream",
     "text": [
      "Downloading Dataset Version Zip in football-players-detection-8 to yolov9:: 100%|██████████| 57648/57648 [00:06<00:00, 8624.98it/s] "
     ]
    },
    {
     "name": "stdout",
     "output_type": "stream",
     "text": [
      "\n"
     ]
    },
    {
     "name": "stderr",
     "output_type": "stream",
     "text": [
      "\n",
      "Extracting Dataset Version Zip to football-players-detection-8 in yolov9:: 100%|██████████| 522/522 [00:00<00:00, 3151.89it/s]\n"
     ]
    }
   ],
   "source": [
    "import roboflow\n",
    "\n",
    "roboflow.login()\n",
    "\n",
    "rf = roboflow.Roboflow()\n",
    "\n",
    "project = rf.workspace(\"roboflow-jvuqo\").project(\"football-players-detection-3zvbc\")\n",
    "version = project.version(8)\n",
    "dataset = version.download(\"yolov9\")"
   ]
  },
  {
   "cell_type": "code",
   "execution_count": 9,
   "metadata": {},
   "outputs": [
    {
     "name": "stdout",
     "output_type": "stream",
     "text": [
      "2024-05-15 18:13:17.765312: I tensorflow/core/platform/cpu_feature_guard.cc:182] This TensorFlow binary is optimized to use available CPU instructions in performance-critical operations.\n",
      "To enable the following instructions: AVX2 FMA, in other operations, rebuild TensorFlow with the appropriate compiler flags.\n",
      "2024-05-15 18:13:18.631900: W tensorflow/compiler/tf2tensorrt/utils/py_utils.cc:38] TF-TRT Warning: Could not find TensorRT\n",
      "\u001b[34m\u001b[1mwandb\u001b[0m: (1) Create a W&B account\n",
      "\u001b[34m\u001b[1mwandb\u001b[0m: (2) Use an existing W&B account\n",
      "\u001b[34m\u001b[1mwandb\u001b[0m: (3) Don't visualize my results\n",
      "\u001b[34m\u001b[1mwandb\u001b[0m: Enter your choice: (30 second timeout) ^C\n",
      "Traceback (most recent call last):\n",
      "  File \"train.py\", line 37, in <module>\n",
      "    from utils.loggers import Loggers\n",
      "  File \"/raid/users/mohammadibrahim-st/TSAI/Assignment15/yolov9/utils/loggers/__init__.py\", line 24, in <module>\n",
      "    wandb_login_success = wandb.login(timeout=30)\n",
      "  File \"/home/mohammadibrahim-st/.local/lib/python3.8/site-packages/wandb/sdk/wandb_login.py\", line 77, in login\n",
      "    configured = _login(**kwargs)\n",
      "  File \"/home/mohammadibrahim-st/.local/lib/python3.8/site-packages/wandb/sdk/wandb_login.py\", line 298, in _login\n",
      "    wlogin.prompt_api_key()\n",
      "  File \"/home/mohammadibrahim-st/.local/lib/python3.8/site-packages/wandb/sdk/wandb_login.py\", line 221, in prompt_api_key\n",
      "    key, status = self._prompt_api_key()\n",
      "  File \"/home/mohammadibrahim-st/.local/lib/python3.8/site-packages/wandb/sdk/wandb_login.py\", line 201, in _prompt_api_key\n",
      "    key = apikey.prompt_api_key(\n",
      "  File \"/home/mohammadibrahim-st/.local/lib/python3.8/site-packages/wandb/sdk/lib/apikey.py\", line 107, in prompt_api_key\n",
      "    result = prompt_choices(\n",
      "  File \"/home/mohammadibrahim-st/.local/lib/python3.8/site-packages/wandb/util.py\", line 1264, in prompt_choices\n",
      "    choice = _prompt_choice(input_timeout=input_timeout, jupyter=jupyter)\n",
      "  File \"/home/mohammadibrahim-st/.local/lib/python3.8/site-packages/wandb/util.py\", line 1249, in _prompt_choice\n",
      "    choice = input_fn(text, jupyter=jupyter)\n",
      "  File \"/home/mohammadibrahim-st/.local/lib/python3.8/site-packages/wandb/sdk/lib/timed_input.py\", line 120, in timed_input\n",
      "    return _timed_input(prompt=prompt, timeout=timeout)\n",
      "  File \"/home/mohammadibrahim-st/.local/lib/python3.8/site-packages/wandb/sdk/lib/timed_input.py\", line 26, in _posix_timed_input\n",
      "    events = sel.select(timeout=timeout)\n",
      "  File \"/usr/lib/python3.8/selectors.py\", line 468, in select\n",
      "    fd_event_list = self._selector.poll(timeout, max_ev)\n",
      "KeyboardInterrupt\n",
      "Traceback (most recent call last):\n",
      "  File \"train.py\", line 37, in <module>\n",
      "    from utils.loggers import Loggers\n",
      "  File \"/raid/users/mohammadibrahim-st/TSAI/Assignment15/yolov9/utils/loggers/__init__.py\", line 24, in <module>\n",
      "    wandb_login_success = wandb.login(timeout=30)\n",
      "  File \"/home/mohammadibrahim-st/.local/lib/python3.8/site-packages/wandb/sdk/wandb_login.py\", line 77, in login\n",
      "    configured = _login(**kwargs)\n",
      "  File \"/home/mohammadibrahim-st/.local/lib/python3.8/site-packages/wandb/sdk/wandb_login.py\", line 298, in _login\n",
      "    wlogin.prompt_api_key()\n",
      "  File \"/home/mohammadibrahim-st/.local/lib/python3.8/site-packages/wandb/sdk/wandb_login.py\", line 221, in prompt_api_key\n",
      "    key, status = self._prompt_api_key()\n",
      "  File \"/home/mohammadibrahim-st/.local/lib/python3.8/site-packages/wandb/sdk/wandb_login.py\", line 201, in _prompt_api_key\n",
      "    key = apikey.prompt_api_key(\n",
      "  File \"/home/mohammadibrahim-st/.local/lib/python3.8/site-packages/wandb/sdk/lib/apikey.py\", line 107, in prompt_api_key\n",
      "    result = prompt_choices(\n",
      "  File \"/home/mohammadibrahim-st/.local/lib/python3.8/site-packages/wandb/util.py\", line 1264, in prompt_choices\n",
      "    choice = _prompt_choice(input_timeout=input_timeout, jupyter=jupyter)\n",
      "  File \"/home/mohammadibrahim-st/.local/lib/python3.8/site-packages/wandb/util.py\", line 1249, in _prompt_choice\n",
      "    choice = input_fn(text, jupyter=jupyter)\n",
      "  File \"/home/mohammadibrahim-st/.local/lib/python3.8/site-packages/wandb/sdk/lib/timed_input.py\", line 120, in timed_input\n",
      "    return _timed_input(prompt=prompt, timeout=timeout)\n",
      "  File \"/home/mohammadibrahim-st/.local/lib/python3.8/site-packages/wandb/sdk/lib/timed_input.py\", line 26, in _posix_timed_input\n",
      "    events = sel.select(timeout=timeout)\n",
      "  File \"/usr/lib/python3.8/selectors.py\", line 468, in select\n",
      "    fd_event_list = self._selector.poll(timeout, max_ev)\n",
      "KeyboardInterrupt\n"
     ]
    }
   ],
   "source": [
    "!cd {HOME}\n",
    "!python3 train.py \\\n",
    "--batch 512 --epochs 500 --img 640 --device 0 --min-items 0 --close-mosaic 15 \\\n",
    "--data /raid/users/mohammadibrahim-st/TSAI/Assignment15/yolov9/jetdata/data.yaml \\\n",
    "--weights /raid/users/mohammadibrahim-st/TSAI/Assignment15/yolov9/weights/gelan-c.pt \\\n",
    "--cfg models/detect/gelan-c.yaml \\\n",
    "--hyp hyp.scratch-high.yaml | grep -E \"^\\s*Class|^\\s*all\\s+[0-9]+\" > training_log.txt"
   ]
  }
 ],
 "metadata": {
  "kernelspec": {
   "display_name": "Python 3",
   "language": "python",
   "name": "python3"
  },
  "language_info": {
   "codemirror_mode": {
    "name": "ipython",
    "version": 3
   },
   "file_extension": ".py",
   "mimetype": "text/x-python",
   "name": "python",
   "nbconvert_exporter": "python",
   "pygments_lexer": "ipython3",
   "version": "3.8.5"
  }
 },
 "nbformat": 4,
 "nbformat_minor": 2
}
